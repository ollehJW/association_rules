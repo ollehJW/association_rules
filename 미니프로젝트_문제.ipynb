{
  "cells": [
    {
      "cell_type": "markdown",
      "metadata": {
        "id": "4roypfp0gIrp"
      },
      "source": [
        "## 미니프로젝트\n",
        "---\n",
        "### **분석 주제**\n",
        "```\n",
        "회사에서 할인마트를 운영하고 있음\n",
        "\n",
        "최근 매출 증대를 위해 프로모션을 진행해보라는 윗선의 지시가 있었음 😰\n",
        "\n",
        "이를 위해 자주 판매되는 상품 조합과, 시간별 최빈 판매 상품 및 조합 등을 파악하여,\n",
        "데이터를 기반으로 한 프로모션 기획서 작성하고자 함\n",
        "```\n"
      ]
    },
    {
      "cell_type": "markdown",
      "metadata": {
        "id": "cAwStFzbjOOf"
      },
      "source": [
        "\n",
        "### 분석 프레임 정의\n",
        "----\n",
        "1. 분석 가설\n",
        "  * 특정 일, 특정 시간 등에 많이 사는 물건이 있다면, 해당 물건을 사러 왔을때 다른 연관 물건을 사게 만들 수 있도록 결합 할인을 제공하면 매출을 높일 수 있을것이다\n",
        "  * 항상 사는 물건 세트가 있다면, 해당 세트에 조금의 할인만 제공해도 방문객을 높일 수 있을것이다\n",
        "\n",
        "2. 분석 대상 정의\n",
        "  * 2021년 8월 1일부터 8월 30일까지의 매장 영수증 정보 대상\n",
        "  * 전년도 한 달치 데이터에 대해서만 분석하여 8월 프로모션을 진행하고자 함\n",
        "  \n",
        "3. 분석 대상 항목 정의\n",
        "  * 매장 영수증 정보\n",
        "    * 영수증 일자\n",
        "    * 영수증 일시\n",
        "    * 구매 품목1, 2, 3, ... , 20 (최대 20개)\n",
        "\n",
        "4. 분석 방법\n",
        "    1. 데이터 전처리\n",
        "    2. 데이터 시각화 \n",
        "      * 영수증 일자/일시를 기준으로 요일별/시간대별 최빈 판매 항목 확인 (*언제 어떤 상품에 대해 많이/적게 팔리는지 시각적으로 확인*)\n",
        "      * 일부 대량 판매 물품에 대해 요일별/시간대별 차이에 대한 확인 (*많이 팔리는 항목이 요일별/시간대별에 따른 차이가 발생하는지 확인*)\n",
        "    3. 장바구니 분석\n",
        "      * 함께 판매되는 경우가 많은 조합 확인 *프로모션 기획에 활용*\n",
        "        * 모든 사람이 대부분 구매하는 물품을 확인하여 해당 물품이 포함된 조합은 제외하고 분석\n",
        "        * 유사한 물품 (스파케티, 파스타) 은 하나로 통일하여 추가 검토      * 함께 판매되는 경우가 많은 조합 확인 *프로모션 기획에 활용*\n",
        "        * 모든 사람이 대부분 구매하는 물품을 확인하여 해당 물품이 포함된 조합은 제외하고 분석\n",
        "        * 유사한 물품 (스파케티, 파스타) 은 하나로 통일하여 추가 검토\n",
        "\n",
        "\n",
        "5. 결론\n",
        "  * 프로모션 계획 수립\n",
        "\n",
        "\n",
        "\n"
      ]
    },
    {
      "cell_type": "markdown",
      "metadata": {
        "id": "YIJioOezoAPj"
      },
      "source": [
        "### 분석 단계\n",
        "---\n",
        "1. 데이터 전처리\n",
        "2. 데이터 탐색(EDA)\n",
        "3. 데이터 시각화\n",
        "4. 장바구니 분석\n",
        "5. 최종 결론 산출"
      ]
    },
    {
      "cell_type": "markdown",
      "metadata": {
        "id": "M0xeUdPApMBQ"
      },
      "source": [
        "#### 구글 colab 이용 시 처리"
      ]
    },
    {
      "cell_type": "code",
      "execution_count": null,
      "metadata": {
        "colab": {
          "base_uri": "https://localhost:8080/"
        },
        "id": "MYuvIm93pLQM",
        "outputId": "13184eca-7a48-4af8-9517-572a42a0e526"
      },
      "outputs": [
        {
          "name": "stdout",
          "output_type": "stream",
          "text": [
            "Mounted at /content/drive\n"
          ]
        }
      ],
      "source": [
        "# ▶ Warnings 제거\n",
        "import warnings\n",
        "warnings.filterwarnings('ignore')\n",
        "\n",
        "# ▶ Google drive mount or 폴더 클릭 후 구글드라이브 연결\n",
        "from google.colab import drive\n",
        "drive.mount('/content/drive')"
      ]
    },
    {
      "cell_type": "markdown",
      "metadata": {
        "id": "w_yKBld1pTJi"
      },
      "source": [
        "### 1. 데이터 전처리"
      ]
    },
    {
      "cell_type": "code",
      "execution_count": 21,
      "metadata": {
        "id": "RI8A2Qrok61i"
      },
      "outputs": [],
      "source": [
        "import pandas as pd\n",
        "import seaborn as sns\n",
        "\n",
        "# 데이터 읽어오기\n",
        "df = pd.read_csv(\"market_basket_prj_v1.csv\")"
      ]
    },
    {
      "cell_type": "code",
      "execution_count": 22,
      "metadata": {
        "colab": {
          "base_uri": "https://localhost:8080/"
        },
        "id": "6sni-j7_lIeH",
        "outputId": "2532d172-9358-4e1c-e211-08787993a6bb"
      },
      "outputs": [
        {
          "name": "stdout",
          "output_type": "stream",
          "text": [
            "<class 'pandas.core.frame.DataFrame'>\n",
            "RangeIndex: 120016 entries, 0 to 120015\n",
            "Data columns (total 22 columns):\n",
            " #   Column     Non-Null Count   Dtype \n",
            "---  ------     --------------   ----- \n",
            " 0   sale_date  120016 non-null  int64 \n",
            " 1   sale_time  120016 non-null  object\n",
            " 2   0          120016 non-null  object\n",
            " 3   1          93995 non-null   object\n",
            " 4   2          71738 non-null   object\n",
            " 5   3          54772 non-null   object\n",
            " 6   4          41382 non-null   object\n",
            " 7   5          30555 non-null   object\n",
            " 8   6          22427 non-null   object\n",
            " 9   7          16112 non-null   object\n",
            " 10  8          10809 non-null   object\n",
            " 11  9          6618 non-null    object\n",
            " 12  10         4240 non-null    object\n",
            " 13  11         2546 non-null    object\n",
            " 14  12         1453 non-null    object\n",
            " 15  13         784 non-null     object\n",
            " 16  14         422 non-null     object\n",
            " 17  15         138 non-null     object\n",
            " 18  16         66 non-null      object\n",
            " 19  17         64 non-null      object\n",
            " 20  18         50 non-null      object\n",
            " 21  19         16 non-null      object\n",
            "dtypes: int64(1), object(21)\n",
            "memory usage: 20.1+ MB\n"
          ]
        }
      ],
      "source": [
        "# 컬럼 확인\n",
        "df.info()"
      ]
    },
    {
      "cell_type": "code",
      "execution_count": 23,
      "metadata": {
        "colab": {
          "base_uri": "https://localhost:8080/",
          "height": 236
        },
        "id": "4rmmCeTilPEy",
        "outputId": "85e6b14e-c9ca-4bb1-a6b7-c67d54fcd7fd"
      },
      "outputs": [
        {
          "data": {
            "text/html": [
              "<div>\n",
              "<style scoped>\n",
              "    .dataframe tbody tr th:only-of-type {\n",
              "        vertical-align: middle;\n",
              "    }\n",
              "\n",
              "    .dataframe tbody tr th {\n",
              "        vertical-align: top;\n",
              "    }\n",
              "\n",
              "    .dataframe thead th {\n",
              "        text-align: right;\n",
              "    }\n",
              "</style>\n",
              "<table border=\"1\" class=\"dataframe\">\n",
              "  <thead>\n",
              "    <tr style=\"text-align: right;\">\n",
              "      <th></th>\n",
              "      <th>sale_date</th>\n",
              "      <th>sale_time</th>\n",
              "      <th>0</th>\n",
              "      <th>1</th>\n",
              "      <th>2</th>\n",
              "      <th>3</th>\n",
              "      <th>4</th>\n",
              "      <th>5</th>\n",
              "      <th>6</th>\n",
              "      <th>7</th>\n",
              "      <th>...</th>\n",
              "      <th>10</th>\n",
              "      <th>11</th>\n",
              "      <th>12</th>\n",
              "      <th>13</th>\n",
              "      <th>14</th>\n",
              "      <th>15</th>\n",
              "      <th>16</th>\n",
              "      <th>17</th>\n",
              "      <th>18</th>\n",
              "      <th>19</th>\n",
              "    </tr>\n",
              "  </thead>\n",
              "  <tbody>\n",
              "    <tr>\n",
              "      <th>0</th>\n",
              "      <td>20210801</td>\n",
              "      <td>10:01</td>\n",
              "      <td>eggs</td>\n",
              "      <td>NaN</td>\n",
              "      <td>NaN</td>\n",
              "      <td>NaN</td>\n",
              "      <td>NaN</td>\n",
              "      <td>NaN</td>\n",
              "      <td>NaN</td>\n",
              "      <td>NaN</td>\n",
              "      <td>...</td>\n",
              "      <td>NaN</td>\n",
              "      <td>NaN</td>\n",
              "      <td>NaN</td>\n",
              "      <td>NaN</td>\n",
              "      <td>NaN</td>\n",
              "      <td>NaN</td>\n",
              "      <td>NaN</td>\n",
              "      <td>NaN</td>\n",
              "      <td>NaN</td>\n",
              "      <td>NaN</td>\n",
              "    </tr>\n",
              "    <tr>\n",
              "      <th>1</th>\n",
              "      <td>20210801</td>\n",
              "      <td>10:01</td>\n",
              "      <td>cooking oil</td>\n",
              "      <td>frozen smoothie</td>\n",
              "      <td>NaN</td>\n",
              "      <td>NaN</td>\n",
              "      <td>NaN</td>\n",
              "      <td>NaN</td>\n",
              "      <td>NaN</td>\n",
              "      <td>NaN</td>\n",
              "      <td>...</td>\n",
              "      <td>NaN</td>\n",
              "      <td>NaN</td>\n",
              "      <td>NaN</td>\n",
              "      <td>NaN</td>\n",
              "      <td>NaN</td>\n",
              "      <td>NaN</td>\n",
              "      <td>NaN</td>\n",
              "      <td>NaN</td>\n",
              "      <td>NaN</td>\n",
              "      <td>NaN</td>\n",
              "    </tr>\n",
              "    <tr>\n",
              "      <th>2</th>\n",
              "      <td>20210801</td>\n",
              "      <td>10:01</td>\n",
              "      <td>low fat yogurt</td>\n",
              "      <td>NaN</td>\n",
              "      <td>NaN</td>\n",
              "      <td>NaN</td>\n",
              "      <td>NaN</td>\n",
              "      <td>NaN</td>\n",
              "      <td>NaN</td>\n",
              "      <td>NaN</td>\n",
              "      <td>...</td>\n",
              "      <td>NaN</td>\n",
              "      <td>NaN</td>\n",
              "      <td>NaN</td>\n",
              "      <td>NaN</td>\n",
              "      <td>NaN</td>\n",
              "      <td>NaN</td>\n",
              "      <td>NaN</td>\n",
              "      <td>NaN</td>\n",
              "      <td>NaN</td>\n",
              "      <td>NaN</td>\n",
              "    </tr>\n",
              "    <tr>\n",
              "      <th>3</th>\n",
              "      <td>20210801</td>\n",
              "      <td>10:01</td>\n",
              "      <td>spaghetti</td>\n",
              "      <td>mineral water</td>\n",
              "      <td>eggs</td>\n",
              "      <td>pet food</td>\n",
              "      <td>NaN</td>\n",
              "      <td>NaN</td>\n",
              "      <td>NaN</td>\n",
              "      <td>NaN</td>\n",
              "      <td>...</td>\n",
              "      <td>NaN</td>\n",
              "      <td>NaN</td>\n",
              "      <td>NaN</td>\n",
              "      <td>NaN</td>\n",
              "      <td>NaN</td>\n",
              "      <td>NaN</td>\n",
              "      <td>NaN</td>\n",
              "      <td>NaN</td>\n",
              "      <td>NaN</td>\n",
              "      <td>NaN</td>\n",
              "    </tr>\n",
              "    <tr>\n",
              "      <th>4</th>\n",
              "      <td>20210801</td>\n",
              "      <td>10:01</td>\n",
              "      <td>frozen vegetables</td>\n",
              "      <td>parmesan cheese</td>\n",
              "      <td>NaN</td>\n",
              "      <td>NaN</td>\n",
              "      <td>NaN</td>\n",
              "      <td>NaN</td>\n",
              "      <td>NaN</td>\n",
              "      <td>NaN</td>\n",
              "      <td>...</td>\n",
              "      <td>NaN</td>\n",
              "      <td>NaN</td>\n",
              "      <td>NaN</td>\n",
              "      <td>NaN</td>\n",
              "      <td>NaN</td>\n",
              "      <td>NaN</td>\n",
              "      <td>NaN</td>\n",
              "      <td>NaN</td>\n",
              "      <td>NaN</td>\n",
              "      <td>NaN</td>\n",
              "    </tr>\n",
              "  </tbody>\n",
              "</table>\n",
              "<p>5 rows × 22 columns</p>\n",
              "</div>"
            ],
            "text/plain": [
              "   sale_date sale_time                  0                1     2         3  \\\n",
              "0   20210801     10:01               eggs              NaN   NaN       NaN   \n",
              "1   20210801     10:01        cooking oil  frozen smoothie   NaN       NaN   \n",
              "2   20210801     10:01     low fat yogurt              NaN   NaN       NaN   \n",
              "3   20210801     10:01          spaghetti    mineral water  eggs  pet food   \n",
              "4   20210801     10:01  frozen vegetables  parmesan cheese   NaN       NaN   \n",
              "\n",
              "     4    5    6    7  ...   10   11   12   13   14   15   16   17   18   19  \n",
              "0  NaN  NaN  NaN  NaN  ...  NaN  NaN  NaN  NaN  NaN  NaN  NaN  NaN  NaN  NaN  \n",
              "1  NaN  NaN  NaN  NaN  ...  NaN  NaN  NaN  NaN  NaN  NaN  NaN  NaN  NaN  NaN  \n",
              "2  NaN  NaN  NaN  NaN  ...  NaN  NaN  NaN  NaN  NaN  NaN  NaN  NaN  NaN  NaN  \n",
              "3  NaN  NaN  NaN  NaN  ...  NaN  NaN  NaN  NaN  NaN  NaN  NaN  NaN  NaN  NaN  \n",
              "4  NaN  NaN  NaN  NaN  ...  NaN  NaN  NaN  NaN  NaN  NaN  NaN  NaN  NaN  NaN  \n",
              "\n",
              "[5 rows x 22 columns]"
            ]
          },
          "execution_count": 23,
          "metadata": {},
          "output_type": "execute_result"
        }
      ],
      "source": [
        "# 간단한 데이터 탐색 - eye check\n",
        "df.head(5)"
      ]
    },
    {
      "cell_type": "code",
      "execution_count": 24,
      "metadata": {
        "colab": {
          "base_uri": "https://localhost:8080/"
        },
        "id": "3JjEPITUleEX",
        "outputId": "900a909f-525a-4078-dbd7-9cb317952d20"
      },
      "outputs": [
        {
          "data": {
            "text/plain": [
              "20210801    6652\n",
              "20210802    3044\n",
              "20210803    3052\n",
              "20210804    2927\n",
              "20210805    2749\n",
              "20210806    5169\n",
              "20210807    4563\n",
              "20210808    4611\n",
              "20210809    1961\n",
              "20210810    4208\n",
              "20210811    2687\n",
              "20210812    3019\n",
              "20210813    5567\n",
              "20210814    5781\n",
              "20210815    4555\n",
              "20210816    4465\n",
              "20210817    2849\n",
              "20210818    1880\n",
              "20210819    3450\n",
              "20210820    4927\n",
              "20210821    5221\n",
              "20210822    4003\n",
              "20210823    3036\n",
              "20210824    3265\n",
              "20210825    3309\n",
              "20210826    2852\n",
              "20210827    4143\n",
              "20210828    4405\n",
              "20210829    4954\n",
              "20210830    2935\n",
              "20210831    3777\n",
              "Name: sale_date, dtype: int64"
            ]
          },
          "execution_count": 24,
          "metadata": {},
          "output_type": "execute_result"
        }
      ],
      "source": [
        "# 날짜 확인 - 날짜 값에 대해서 빈도수 계산 후, 정렬 -> 2021년 8월 한 달간의 데이터가 맞는지 확인\n",
        "df['sale_date'].value_counts().sort_index() "
      ]
    },
    {
      "cell_type": "code",
      "execution_count": 25,
      "metadata": {
        "id": "JJGoqisclYDo"
      },
      "outputs": [],
      "source": [
        "# 날짜/시간에 대한 확인 - 간단히 보기 위하여 날짜는 마지막 두자리만, 시각은 앞 두자리만\n",
        "# 날짜 항목은 숫자로 읽혔기 때문에 (상기 info() 결과 확인) 문자열 자르기가 되지 않으므로 str로 형 변환 후 자르기 수행\n",
        "df['sale_date_day'] = df['sale_date'].astype(str).str[-2:]\n",
        "df['sale_time_hour'] = df['sale_time'].str[:2]"
      ]
    },
    {
      "cell_type": "code",
      "execution_count": 26,
      "metadata": {
        "colab": {
          "base_uri": "https://localhost:8080/",
          "height": 299
        },
        "id": "Il5ZuTnLe85r",
        "outputId": "ba041979-507a-43a5-f4eb-7c0a2ae638eb"
      },
      "outputs": [
        {
          "data": {
            "text/plain": [
              "<AxesSubplot:xlabel='sale_date_day', ylabel='Count'>"
            ]
          },
          "execution_count": 26,
          "metadata": {},
          "output_type": "execute_result"
        },
        {
          "data": {
            "image/png": "[encoded data removed]",
            "text/plain": [
              "<Figure size 640x480 with 1 Axes>"
            ]
          },
          "metadata": {},
          "output_type": "display_data"
        }
      ],
      "source": [
        "sns.histplot(data=df, x='sale_date_day')"
      ]
    },
    {
      "cell_type": "code",
      "execution_count": 27,
      "metadata": {
        "colab": {
          "base_uri": "https://localhost:8080/",
          "height": 299
        },
        "id": "oq2Fh-QvfmRp",
        "outputId": "47399deb-ef25-4149-cfc9-efdf3810d0d6"
      },
      "outputs": [
        {
          "data": {
            "text/plain": [
              "<AxesSubplot:xlabel='sale_time_hour', ylabel='Count'>"
            ]
          },
          "execution_count": 27,
          "metadata": {},
          "output_type": "execute_result"
        },
        {
          "data": {
            "image/png": "[encoded data removed]",
            "text/plain": [
              "<Figure size 640x480 with 1 Axes>"
            ]
          },
          "metadata": {},
          "output_type": "display_data"
        }
      ],
      "source": [
        "sns.histplot(data=df, x='sale_time_hour')"
      ]
    },
    {
      "cell_type": "markdown",
      "metadata": {
        "id": "NQ5xXHLimhLJ"
      },
      "source": [
        "#### 기타 전처리 작업 수행\n",
        "* 결측값 확인 (원래 해야 하지만..)\n",
        "* 날짜 항목에 대한 전처리\n",
        "  * 문자열화 or datetime 형으로 변환 -> 이후 요일 등으로 처리 가능\n",
        "* 시간 항목에 대한 전처리 \n",
        "  * 시간만 남기거나, 시간대로 만들거나 분석에 활용할 수준으로 변경\n",
        "* 구매 물품에 대한 전처리\n",
        "  * 분석 강의를 참고 하여 컬럼 형태로 변환"
      ]
    },
    {
      "cell_type": "markdown",
      "metadata": {},
      "source": [
        "#### (1) 결측값 확인"
      ]
    },
    {
      "cell_type": "code",
      "execution_count": 28,
      "metadata": {
        "id": "rwLVEILkj9EF"
      },
      "outputs": [
        {
          "data": {
            "text/plain": [
              "sale_date              0\n",
              "sale_time              0\n",
              "0                      0\n",
              "1                  26021\n",
              "2                  48278\n",
              "3                  65244\n",
              "4                  78634\n",
              "5                  89461\n",
              "6                  97589\n",
              "7                 103904\n",
              "8                 109207\n",
              "9                 113398\n",
              "10                115776\n",
              "11                117470\n",
              "12                118563\n",
              "13                119232\n",
              "14                119594\n",
              "15                119878\n",
              "16                119950\n",
              "17                119952\n",
              "18                119966\n",
              "19                120000\n",
              "sale_date_day          0\n",
              "sale_time_hour         0\n",
              "dtype: int64"
            ]
          },
          "execution_count": 28,
          "metadata": {},
          "output_type": "execute_result"
        }
      ],
      "source": [
        "df.isnull().sum()"
      ]
    },
    {
      "cell_type": "markdown",
      "metadata": {},
      "source": [
        "모든 데이터에 날짜와 시간 정보가 기입되어 있으며, 1개 이상의 물건을 산 기록이 있다."
      ]
    },
    {
      "cell_type": "markdown",
      "metadata": {},
      "source": [
        "#### (2) 날짜 항목 Datetime으로 변경 후 요일 정보 추출"
      ]
    },
    {
      "cell_type": "code",
      "execution_count": 29,
      "metadata": {},
      "outputs": [],
      "source": [
        "import datetime\n",
        "df['sale_date'] = pd.to_datetime(df['sale_date'], format = \"%Y%m%d\")"
      ]
    },
    {
      "cell_type": "code",
      "execution_count": 30,
      "metadata": {},
      "outputs": [
        {
          "data": {
            "text/plain": [
              "0    Sunday\n",
              "1    Sunday\n",
              "2    Sunday\n",
              "3    Sunday\n",
              "4    Sunday\n",
              "Name: sale_day, dtype: object"
            ]
          },
          "execution_count": 30,
          "metadata": {},
          "output_type": "execute_result"
        }
      ],
      "source": [
        "dateDict = {0: 'Monday', 1: 'Tuesday', 2: 'Wednesday', 3: 'Thursday', 4: 'Friday', 5: 'Saturday', 6: 'Sunday'}\n",
        "def extract_day(date):\n",
        "    return dateDict[date.weekday()]\n",
        "df['sale_day'] = df['sale_date'].map(extract_day)\n",
        "df['sale_day'][:5]"
      ]
    },
    {
      "cell_type": "markdown",
      "metadata": {},
      "source": [
        "#### (3) 구매 물품에 대한 전처리"
      ]
    },
    {
      "cell_type": "code",
      "execution_count": 31,
      "metadata": {},
      "outputs": [],
      "source": [
        "from mlxtend.preprocessing import TransactionEncoder"
      ]
    },
    {
      "cell_type": "code",
      "execution_count": 44,
      "metadata": {},
      "outputs": [
        {
          "data": {
            "text/html": [
              "<div>\n",
              "<style scoped>\n",
              "    .dataframe tbody tr th:only-of-type {\n",
              "        vertical-align: middle;\n",
              "    }\n",
              "\n",
              "    .dataframe tbody tr th {\n",
              "        vertical-align: top;\n",
              "    }\n",
              "\n",
              "    .dataframe thead th {\n",
              "        text-align: right;\n",
              "    }\n",
              "</style>\n",
              "<table border=\"1\" class=\"dataframe\">\n",
              "  <thead>\n",
              "    <tr style=\"text-align: right;\">\n",
              "      <th></th>\n",
              "      <th>asparagus</th>\n",
              "      <th>almonds</th>\n",
              "      <th>antioxydant juice</th>\n",
              "      <th>asparagus</th>\n",
              "      <th>avocado</th>\n",
              "      <th>babies food</th>\n",
              "      <th>bacon</th>\n",
              "      <th>barbecue sauce</th>\n",
              "      <th>black tea</th>\n",
              "      <th>blueberries</th>\n",
              "      <th>...</th>\n",
              "      <th>turkey</th>\n",
              "      <th>vegetables mix</th>\n",
              "      <th>water spray</th>\n",
              "      <th>white wine</th>\n",
              "      <th>whole weat flour</th>\n",
              "      <th>whole wheat pasta</th>\n",
              "      <th>whole wheat rice</th>\n",
              "      <th>yams</th>\n",
              "      <th>yogurt cake</th>\n",
              "      <th>zucchini</th>\n",
              "    </tr>\n",
              "  </thead>\n",
              "  <tbody>\n",
              "    <tr>\n",
              "      <th>0</th>\n",
              "      <td>False</td>\n",
              "      <td>False</td>\n",
              "      <td>False</td>\n",
              "      <td>False</td>\n",
              "      <td>False</td>\n",
              "      <td>False</td>\n",
              "      <td>False</td>\n",
              "      <td>False</td>\n",
              "      <td>False</td>\n",
              "      <td>False</td>\n",
              "      <td>...</td>\n",
              "      <td>False</td>\n",
              "      <td>False</td>\n",
              "      <td>False</td>\n",
              "      <td>False</td>\n",
              "      <td>False</td>\n",
              "      <td>False</td>\n",
              "      <td>False</td>\n",
              "      <td>False</td>\n",
              "      <td>False</td>\n",
              "      <td>False</td>\n",
              "    </tr>\n",
              "    <tr>\n",
              "      <th>1</th>\n",
              "      <td>False</td>\n",
              "      <td>False</td>\n",
              "      <td>False</td>\n",
              "      <td>False</td>\n",
              "      <td>False</td>\n",
              "      <td>False</td>\n",
              "      <td>False</td>\n",
              "      <td>False</td>\n",
              "      <td>False</td>\n",
              "      <td>False</td>\n",
              "      <td>...</td>\n",
              "      <td>False</td>\n",
              "      <td>False</td>\n",
              "      <td>False</td>\n",
              "      <td>False</td>\n",
              "      <td>False</td>\n",
              "      <td>False</td>\n",
              "      <td>False</td>\n",
              "      <td>False</td>\n",
              "      <td>False</td>\n",
              "      <td>False</td>\n",
              "    </tr>\n",
              "    <tr>\n",
              "      <th>2</th>\n",
              "      <td>False</td>\n",
              "      <td>False</td>\n",
              "      <td>False</td>\n",
              "      <td>False</td>\n",
              "      <td>False</td>\n",
              "      <td>False</td>\n",
              "      <td>False</td>\n",
              "      <td>False</td>\n",
              "      <td>False</td>\n",
              "      <td>False</td>\n",
              "      <td>...</td>\n",
              "      <td>False</td>\n",
              "      <td>False</td>\n",
              "      <td>False</td>\n",
              "      <td>False</td>\n",
              "      <td>False</td>\n",
              "      <td>False</td>\n",
              "      <td>False</td>\n",
              "      <td>False</td>\n",
              "      <td>False</td>\n",
              "      <td>False</td>\n",
              "    </tr>\n",
              "    <tr>\n",
              "      <th>3</th>\n",
              "      <td>False</td>\n",
              "      <td>False</td>\n",
              "      <td>False</td>\n",
              "      <td>False</td>\n",
              "      <td>False</td>\n",
              "      <td>False</td>\n",
              "      <td>False</td>\n",
              "      <td>False</td>\n",
              "      <td>False</td>\n",
              "      <td>False</td>\n",
              "      <td>...</td>\n",
              "      <td>False</td>\n",
              "      <td>False</td>\n",
              "      <td>False</td>\n",
              "      <td>False</td>\n",
              "      <td>False</td>\n",
              "      <td>False</td>\n",
              "      <td>False</td>\n",
              "      <td>False</td>\n",
              "      <td>False</td>\n",
              "      <td>False</td>\n",
              "    </tr>\n",
              "    <tr>\n",
              "      <th>4</th>\n",
              "      <td>False</td>\n",
              "      <td>False</td>\n",
              "      <td>False</td>\n",
              "      <td>False</td>\n",
              "      <td>False</td>\n",
              "      <td>False</td>\n",
              "      <td>False</td>\n",
              "      <td>False</td>\n",
              "      <td>False</td>\n",
              "      <td>False</td>\n",
              "      <td>...</td>\n",
              "      <td>False</td>\n",
              "      <td>False</td>\n",
              "      <td>False</td>\n",
              "      <td>False</td>\n",
              "      <td>False</td>\n",
              "      <td>False</td>\n",
              "      <td>False</td>\n",
              "      <td>False</td>\n",
              "      <td>False</td>\n",
              "      <td>False</td>\n",
              "    </tr>\n",
              "  </tbody>\n",
              "</table>\n",
              "<p>5 rows × 120 columns</p>\n",
              "</div>"
            ],
            "text/plain": [
              "    asparagus  almonds  antioxydant juice  asparagus  avocado  babies food  \\\n",
              "0       False    False              False      False    False        False   \n",
              "1       False    False              False      False    False        False   \n",
              "2       False    False              False      False    False        False   \n",
              "3       False    False              False      False    False        False   \n",
              "4       False    False              False      False    False        False   \n",
              "\n",
              "   bacon  barbecue sauce  black tea  blueberries  ...  turkey  vegetables mix  \\\n",
              "0  False           False      False        False  ...   False           False   \n",
              "1  False           False      False        False  ...   False           False   \n",
              "2  False           False      False        False  ...   False           False   \n",
              "3  False           False      False        False  ...   False           False   \n",
              "4  False           False      False        False  ...   False           False   \n",
              "\n",
              "   water spray  white wine  whole weat flour  whole wheat pasta  \\\n",
              "0        False       False             False              False   \n",
              "1        False       False             False              False   \n",
              "2        False       False             False              False   \n",
              "3        False       False             False              False   \n",
              "4        False       False             False              False   \n",
              "\n",
              "   whole wheat rice   yams  yogurt cake  zucchini  \n",
              "0             False  False        False     False  \n",
              "1             False  False        False     False  \n",
              "2             False  False        False     False  \n",
              "3             False  False        False     False  \n",
              "4             False  False        False     False  \n",
              "\n",
              "[5 rows x 120 columns]"
            ]
          },
          "execution_count": 44,
          "metadata": {},
          "output_type": "execute_result"
        }
      ],
      "source": [
        "dataset =  df.iloc[:, 2:22].T.apply(lambda x: x.dropna().tolist()).tolist()\n",
        "te = TransactionEncoder()\n",
        "te_ary=te.fit(dataset).transform(dataset)\n",
        "association_data = pd.DataFrame(te_ary, columns=te.columns_)\n",
        "association_data.head()"
      ]
    },
    {
      "cell_type": "markdown",
      "metadata": {
        "id": "L5Vx-_t5mmJy"
      },
      "source": [
        "### 2. 데이터 탐색\n",
        "* 물품 수, 물품별 빈도 등에 대한 탐색\n",
        "  * 요일별로, 시간대별로 처리 가능한지\n",
        "  * 처리 가능하다면 어떤 기준으로 데이터 빈도가 나타나는지\n",
        "\n",
        "* 물품명에 대한 탐색\n",
        "  * 유사한 물품명이 없는지 - 이를 묶을 수 있는 기준이 있을지"
      ]
    },
    {
      "cell_type": "code",
      "execution_count": 60,
      "metadata": {},
      "outputs": [],
      "source": [
        "association_data['sale_day'] = df['sale_day']\n",
        "association_data['sale_time_hour'] = df['sale_time_hour']"
      ]
    },
    {
      "cell_type": "markdown",
      "metadata": {},
      "source": [
        "#### (1) 요일 별 데이터 탐색 (요일을 입력받아 해당 요일 데이터만 추출하는 함수 생성)"
      ]
    },
    {
      "cell_type": "code",
      "execution_count": 61,
      "metadata": {},
      "outputs": [],
      "source": [
        "def choose_saleday(saleday):\n",
        "    return association_data.loc[association_data['sale_day'] == saleday, :].reset_index(drop = True)"
      ]
    },
    {
      "cell_type": "markdown",
      "metadata": {},
      "source": [
        "##### 요일 별 물품 수 데이터 빈도"
      ]
    },
    {
      "cell_type": "code",
      "execution_count": 62,
      "metadata": {},
      "outputs": [
        {
          "data": {
            "text/plain": [
              " asparagus             2\n",
              "almonds              316\n",
              "antioxydant juice    140\n",
              "asparagus             75\n",
              "avocado              525\n",
              "                    ... \n",
              "whole wheat pasta    437\n",
              "whole wheat rice     898\n",
              "yams                 155\n",
              "yogurt cake          420\n",
              "zucchini             143\n",
              "Length: 120, dtype: int64"
            ]
          },
          "execution_count": 62,
          "metadata": {},
          "output_type": "execute_result"
        }
      ],
      "source": [
        "monday = choose_saleday('Monday')\n",
        "monday.iloc[:,:-2].sum()"
      ]
    },
    {
      "cell_type": "markdown",
      "metadata": {},
      "source": [
        "#### (2) 시간대 별 데이터 탐색 (시간대를 입력받아 해당 요일 데이터만 추출하는 함수 생성)"
      ]
    },
    {
      "cell_type": "code",
      "execution_count": 63,
      "metadata": {},
      "outputs": [],
      "source": [
        "def choose_saletime(sale_time_hour):\n",
        "    return association_data.loc[association_data['sale_time_hour'] == sale_time_hour, :].reset_index(drop = True)"
      ]
    },
    {
      "cell_type": "markdown",
      "metadata": {},
      "source": [
        "##### 시간대 별 물품 수 데이터 빈도"
      ]
    },
    {
      "cell_type": "code",
      "execution_count": 64,
      "metadata": {},
      "outputs": [
        {
          "data": {
            "text/plain": [
              " asparagus             0\n",
              "almonds              183\n",
              "antioxydant juice     83\n",
              "asparagus             47\n",
              "avocado              305\n",
              "                    ... \n",
              "whole wheat pasta    257\n",
              "whole wheat rice     514\n",
              "yams                 107\n",
              "yogurt cake          235\n",
              "zucchini              79\n",
              "Length: 120, dtype: int64"
            ]
          },
          "execution_count": 64,
          "metadata": {},
          "output_type": "execute_result"
        }
      ],
      "source": [
        "hour_10 = choose_saletime('10')\n",
        "hour_10.iloc[:,:-2].sum()"
      ]
    },
    {
      "cell_type": "markdown",
      "metadata": {
        "id": "wZXbbFlCnZFQ"
      },
      "source": [
        "### 3. 데이터 시각화\n",
        "* 날짜/요일/시간대별 방문객수\n",
        "  * 최다 구매 물품\n",
        "* 물품별 구매 건수\n",
        "  * 날짜/요일별 트렌드"
      ]
    },
    {
      "cell_type": "markdown",
      "metadata": {},
      "source": [
        "#### (1) 날짜/요일/시간대별 방문객수"
      ]
    },
    {
      "cell_type": "code",
      "execution_count": 65,
      "metadata": {
        "id": "G4FDD_Jiml2H"
      },
      "outputs": [],
      "source": [
        "import matplotlib.pyplot as plt"
      ]
    },
    {
      "cell_type": "code",
      "execution_count": 72,
      "metadata": {},
      "outputs": [
        {
          "data": {
            "text/plain": [
              "[<matplotlib.lines.Line2D at 0x7f932eb18490>]"
            ]
          },
          "execution_count": 72,
          "metadata": {},
          "output_type": "execute_result"
        },
        {
          "data": {
            "image/png": "[encoded data removed]",
            "text/plain": [
              "<Figure size 1000x600 with 1 Axes>"
            ]
          },
          "metadata": {},
          "output_type": "display_data"
        }
      ],
      "source": [
        "### 날짜별 방문객 수 \n",
        "plt.figure(figsize=(10,6))\n",
        "plt.plot(df.groupby(['sale_date'])['0'].count())"
      ]
    },
    {
      "cell_type": "code",
      "execution_count": 76,
      "metadata": {},
      "outputs": [
        {
          "data": {
            "text/plain": [
              "<AxesSubplot:xlabel='sale_day', ylabel='count'>"
            ]
          },
          "execution_count": 76,
          "metadata": {},
          "output_type": "execute_result"
        },
        {
          "data": {
            "image/png": "[encoded data removed]",
            "text/plain": [
              "<Figure size 1000x600 with 1 Axes>"
            ]
          },
          "metadata": {},
          "output_type": "display_data"
        }
      ],
      "source": [
        "### 요일별 방문객 수 \n",
        "plt.figure(figsize=(10,6))\n",
        "day_order = [\"Monday\", \"Tuesday\", \"Wednesday\", \"Thursday\", \"Friday\", \"Saturday\", \"Sunday\"]\n",
        "sns.countplot(x = \"sale_day\", data = df, order = day_order)"
      ]
    },
    {
      "cell_type": "code",
      "execution_count": 78,
      "metadata": {},
      "outputs": [
        {
          "data": {
            "text/plain": [
              "<AxesSubplot:xlabel='sale_time_hour', ylabel='count'>"
            ]
          },
          "execution_count": 78,
          "metadata": {},
          "output_type": "execute_result"
        },
        {
          "data": {
            "image/png": "[encoded data removed]",
            "text/plain": [
              "<Figure size 1000x600 with 1 Axes>"
            ]
          },
          "metadata": {},
          "output_type": "display_data"
        }
      ],
      "source": [
        "### 시간대별 방문객 수 \n",
        "plt.figure(figsize=(10,6))\n",
        "sns.countplot(x = \"sale_time_hour\", data = df)"
      ]
    },
    {
      "cell_type": "markdown",
      "metadata": {},
      "source": [
        "#### 물품별 구매 건수의 날짜/요일별 트렌드"
      ]
    },
    {
      "cell_type": "code",
      "execution_count": 79,
      "metadata": {},
      "outputs": [],
      "source": [
        "association_data['sale_date'] = df['sale_date']"
      ]
    },
    {
      "cell_type": "code",
      "execution_count": 82,
      "metadata": {},
      "outputs": [
        {
          "data": {
            "text/plain": [
              "Text(0.5, 1.0, 'avocado')"
            ]
          },
          "execution_count": 82,
          "metadata": {},
          "output_type": "execute_result"
        },
        {
          "data": {
            "image/png": "[encoded data removed]",
            "text/plain": [
              "<Figure size 1600x600 with 1 Axes>"
            ]
          },
          "metadata": {},
          "output_type": "display_data"
        }
      ],
      "source": [
        "product = 'avocado'\n",
        "\n",
        "plt.figure(figsize=(16,6))\n",
        "plt.plot(association_data.groupby(['sale_date'])[product].count())\n",
        "plt.title(product)"
      ]
    },
    {
      "cell_type": "code",
      "execution_count": 84,
      "metadata": {},
      "outputs": [
        {
          "data": {
            "text/plain": [
              "Text(0.5, 1.0, 'avocado')"
            ]
          },
          "execution_count": 84,
          "metadata": {},
          "output_type": "execute_result"
        },
        {
          "data": {
            "image/png": "[encoded data removed]",
            "text/plain": [
              "<Figure size 1000x600 with 1 Axes>"
            ]
          },
          "metadata": {},
          "output_type": "display_data"
        }
      ],
      "source": [
        "plt.figure(figsize=(10,6))\n",
        "day_order = [\"Monday\", \"Tuesday\", \"Wednesday\", \"Thursday\", \"Friday\", \"Saturday\", \"Sunday\"]\n",
        "sns.countplot(x = \"sale_day\", data = association_data.loc[association_data[product] == True, :], order = day_order)\n",
        "plt.title(product)"
      ]
    },
    {
      "cell_type": "markdown",
      "metadata": {
        "id": "PThXt4oGni0g"
      },
      "source": [
        "4. 장바구니 분석\n",
        "* 8월 전체 영수증을 기준으로 분석\n",
        "  * support 기준 값을 어떤식으로 선정할지\n",
        "  * 어떤 기준으로 연관 아이템을 찾을 지 (lift 기준, confidence 기준, support 기준)\n",
        "  * 왜 그렇게 선정했는지\n",
        "  * 항상 사는 물건(물)에 대해서는 어떤식으로 처리하는 것이 좋을지\n",
        "* 요일별 데이터를 기준으로 분석\n",
        "* 시간대별 데이터를 기준으로 분석\n"
      ]
    },
    {
      "cell_type": "code",
      "execution_count": 85,
      "metadata": {
        "id": "aksgCrVTmlu5"
      },
      "outputs": [],
      "source": [
        "from mlxtend.frequent_patterns import apriori"
      ]
    },
    {
      "cell_type": "markdown",
      "metadata": {},
      "source": [
        "##### 관측치 수가 굉장히 많으므로, 최소 support 수는 0.01로 설정한다."
      ]
    },
    {
      "cell_type": "code",
      "execution_count": 97,
      "metadata": {},
      "outputs": [
        {
          "data": {
            "text/html": [
              "<div>\n",
              "<style scoped>\n",
              "    .dataframe tbody tr th:only-of-type {\n",
              "        vertical-align: middle;\n",
              "    }\n",
              "\n",
              "    .dataframe tbody tr th {\n",
              "        vertical-align: top;\n",
              "    }\n",
              "\n",
              "    .dataframe thead th {\n",
              "        text-align: right;\n",
              "    }\n",
              "</style>\n",
              "<table border=\"1\" class=\"dataframe\">\n",
              "  <thead>\n",
              "    <tr style=\"text-align: right;\">\n",
              "      <th></th>\n",
              "      <th>support</th>\n",
              "      <th>itemsets</th>\n",
              "    </tr>\n",
              "  </thead>\n",
              "  <tbody>\n",
              "    <tr>\n",
              "      <th>0</th>\n",
              "      <td>0.020397</td>\n",
              "      <td>(almonds)</td>\n",
              "    </tr>\n",
              "    <tr>\n",
              "      <th>1</th>\n",
              "      <td>0.033329</td>\n",
              "      <td>(avocado)</td>\n",
              "    </tr>\n",
              "    <tr>\n",
              "      <th>2</th>\n",
              "      <td>0.013198</td>\n",
              "      <td>(bacon)</td>\n",
              "    </tr>\n",
              "    <tr>\n",
              "      <th>3</th>\n",
              "      <td>0.010799</td>\n",
              "      <td>(barbecue sauce)</td>\n",
              "    </tr>\n",
              "    <tr>\n",
              "      <th>4</th>\n",
              "      <td>0.014265</td>\n",
              "      <td>(black tea)</td>\n",
              "    </tr>\n",
              "    <tr>\n",
              "      <th>...</th>\n",
              "      <td>...</td>\n",
              "      <td>...</td>\n",
              "    </tr>\n",
              "    <tr>\n",
              "      <th>257</th>\n",
              "      <td>0.011207</td>\n",
              "      <td>(milk, mineral water, ground beef)</td>\n",
              "    </tr>\n",
              "    <tr>\n",
              "      <th>258</th>\n",
              "      <td>0.017239</td>\n",
              "      <td>(spaghetti, mineral water, ground beef)</td>\n",
              "    </tr>\n",
              "    <tr>\n",
              "      <th>259</th>\n",
              "      <td>0.015731</td>\n",
              "      <td>(milk, spaghetti, mineral water)</td>\n",
              "    </tr>\n",
              "    <tr>\n",
              "      <th>260</th>\n",
              "      <td>0.010265</td>\n",
              "      <td>(spaghetti, mineral water, olive oil)</td>\n",
              "    </tr>\n",
              "    <tr>\n",
              "      <th>261</th>\n",
              "      <td>0.011465</td>\n",
              "      <td>(spaghetti, mineral water, pancakes)</td>\n",
              "    </tr>\n",
              "  </tbody>\n",
              "</table>\n",
              "<p>262 rows × 2 columns</p>\n",
              "</div>"
            ],
            "text/plain": [
              "      support                                 itemsets\n",
              "0    0.020397                                (almonds)\n",
              "1    0.033329                                (avocado)\n",
              "2    0.013198                                  (bacon)\n",
              "3    0.010799                         (barbecue sauce)\n",
              "4    0.014265                              (black tea)\n",
              "..        ...                                      ...\n",
              "257  0.011207       (milk, mineral water, ground beef)\n",
              "258  0.017239  (spaghetti, mineral water, ground beef)\n",
              "259  0.015731         (milk, spaghetti, mineral water)\n",
              "260  0.010265    (spaghetti, mineral water, olive oil)\n",
              "261  0.011465     (spaghetti, mineral water, pancakes)\n",
              "\n",
              "[262 rows x 2 columns]"
            ]
          },
          "execution_count": 97,
          "metadata": {},
          "output_type": "execute_result"
        }
      ],
      "source": [
        "itemset = apriori(association_data.iloc[:, :-3], min_support=0.01, use_colnames=True)\n",
        "itemset"
      ]
    },
    {
      "cell_type": "markdown",
      "metadata": {},
      "source": [
        "##### 신뢰도가 충분한 규칙을 발견하기 위해서 confidence threshold를 0.3로 설정하고, 좋은 규칙을 찾기 위해 Lift로 내림차순 정렬한다."
      ]
    },
    {
      "cell_type": "code",
      "execution_count": 104,
      "metadata": {},
      "outputs": [
        {
          "data": {
            "text/html": [
              "<div>\n",
              "<style scoped>\n",
              "    .dataframe tbody tr th:only-of-type {\n",
              "        vertical-align: middle;\n",
              "    }\n",
              "\n",
              "    .dataframe tbody tr th {\n",
              "        vertical-align: top;\n",
              "    }\n",
              "\n",
              "    .dataframe thead th {\n",
              "        text-align: right;\n",
              "    }\n",
              "</style>\n",
              "<table border=\"1\" class=\"dataframe\">\n",
              "  <thead>\n",
              "    <tr style=\"text-align: right;\">\n",
              "      <th></th>\n",
              "      <th>antecedents</th>\n",
              "      <th>consequents</th>\n",
              "      <th>antecedent support</th>\n",
              "      <th>consequent support</th>\n",
              "      <th>support</th>\n",
              "      <th>confidence</th>\n",
              "      <th>lift</th>\n",
              "      <th>leverage</th>\n",
              "      <th>conviction</th>\n",
              "    </tr>\n",
              "  </thead>\n",
              "  <tbody>\n",
              "    <tr>\n",
              "      <th>15</th>\n",
              "      <td>(herb &amp; pepper)</td>\n",
              "      <td>(ground beef)</td>\n",
              "      <td>0.049460</td>\n",
              "      <td>0.101945</td>\n",
              "      <td>0.016140</td>\n",
              "      <td>0.326314</td>\n",
              "      <td>3.200891</td>\n",
              "      <td>0.011097</td>\n",
              "      <td>1.333047</td>\n",
              "    </tr>\n",
              "    <tr>\n",
              "      <th>52</th>\n",
              "      <td>(mineral water, frozen vegetables)</td>\n",
              "      <td>(milk)</td>\n",
              "      <td>0.035729</td>\n",
              "      <td>0.129583</td>\n",
              "      <td>0.011065</td>\n",
              "      <td>0.309701</td>\n",
              "      <td>2.389991</td>\n",
              "      <td>0.006435</td>\n",
              "      <td>1.260929</td>\n",
              "    </tr>\n",
              "    <tr>\n",
              "      <th>57</th>\n",
              "      <td>(mineral water, ground beef)</td>\n",
              "      <td>(spaghetti)</td>\n",
              "      <td>0.041694</td>\n",
              "      <td>0.174110</td>\n",
              "      <td>0.017239</td>\n",
              "      <td>0.413469</td>\n",
              "      <td>2.374757</td>\n",
              "      <td>0.009980</td>\n",
              "      <td>1.408093</td>\n",
              "    </tr>\n",
              "    <tr>\n",
              "      <th>23</th>\n",
              "      <td>(soup)</td>\n",
              "      <td>(milk)</td>\n",
              "      <td>0.050527</td>\n",
              "      <td>0.129583</td>\n",
              "      <td>0.015198</td>\n",
              "      <td>0.300792</td>\n",
              "      <td>2.321232</td>\n",
              "      <td>0.008651</td>\n",
              "      <td>1.244861</td>\n",
              "    </tr>\n",
              "    <tr>\n",
              "      <th>17</th>\n",
              "      <td>(ground beef)</td>\n",
              "      <td>(spaghetti)</td>\n",
              "      <td>0.101945</td>\n",
              "      <td>0.174110</td>\n",
              "      <td>0.039770</td>\n",
              "      <td>0.390110</td>\n",
              "      <td>2.240595</td>\n",
              "      <td>0.022020</td>\n",
              "      <td>1.354163</td>\n",
              "    </tr>\n",
              "    <tr>\n",
              "      <th>...</th>\n",
              "      <td>...</td>\n",
              "      <td>...</td>\n",
              "      <td>...</td>\n",
              "      <td>...</td>\n",
              "      <td>...</td>\n",
              "      <td>...</td>\n",
              "      <td>...</td>\n",
              "      <td>...</td>\n",
              "      <td>...</td>\n",
              "    </tr>\n",
              "    <tr>\n",
              "      <th>11</th>\n",
              "      <td>(frozen smoothie)</td>\n",
              "      <td>(mineral water)</td>\n",
              "      <td>0.063325</td>\n",
              "      <td>0.238368</td>\n",
              "      <td>0.020264</td>\n",
              "      <td>0.320000</td>\n",
              "      <td>1.342461</td>\n",
              "      <td>0.005169</td>\n",
              "      <td>1.120047</td>\n",
              "    </tr>\n",
              "    <tr>\n",
              "      <th>20</th>\n",
              "      <td>(honey)</td>\n",
              "      <td>(mineral water)</td>\n",
              "      <td>0.047460</td>\n",
              "      <td>0.238368</td>\n",
              "      <td>0.015065</td>\n",
              "      <td>0.317416</td>\n",
              "      <td>1.331619</td>\n",
              "      <td>0.003752</td>\n",
              "      <td>1.115806</td>\n",
              "    </tr>\n",
              "    <tr>\n",
              "      <th>21</th>\n",
              "      <td>(low fat yogurt)</td>\n",
              "      <td>(mineral water)</td>\n",
              "      <td>0.076523</td>\n",
              "      <td>0.238368</td>\n",
              "      <td>0.023997</td>\n",
              "      <td>0.313589</td>\n",
              "      <td>1.315565</td>\n",
              "      <td>0.005756</td>\n",
              "      <td>1.109585</td>\n",
              "    </tr>\n",
              "    <tr>\n",
              "      <th>10</th>\n",
              "      <td>(fresh bread)</td>\n",
              "      <td>(mineral water)</td>\n",
              "      <td>0.043061</td>\n",
              "      <td>0.238368</td>\n",
              "      <td>0.013332</td>\n",
              "      <td>0.309598</td>\n",
              "      <td>1.298820</td>\n",
              "      <td>0.003067</td>\n",
              "      <td>1.103171</td>\n",
              "    </tr>\n",
              "    <tr>\n",
              "      <th>32</th>\n",
              "      <td>(turkey)</td>\n",
              "      <td>(mineral water)</td>\n",
              "      <td>0.066483</td>\n",
              "      <td>0.238368</td>\n",
              "      <td>0.020281</td>\n",
              "      <td>0.305051</td>\n",
              "      <td>1.279746</td>\n",
              "      <td>0.004433</td>\n",
              "      <td>1.095953</td>\n",
              "    </tr>\n",
              "  </tbody>\n",
              "</table>\n",
              "<p>64 rows × 9 columns</p>\n",
              "</div>"
            ],
            "text/plain": [
              "                           antecedents      consequents  antecedent support  \\\n",
              "15                     (herb & pepper)    (ground beef)            0.049460   \n",
              "52  (mineral water, frozen vegetables)           (milk)            0.035729   \n",
              "57        (mineral water, ground beef)      (spaghetti)            0.041694   \n",
              "23                              (soup)           (milk)            0.050527   \n",
              "17                       (ground beef)      (spaghetti)            0.101945   \n",
              "..                                 ...              ...                 ...   \n",
              "11                   (frozen smoothie)  (mineral water)            0.063325   \n",
              "20                             (honey)  (mineral water)            0.047460   \n",
              "21                    (low fat yogurt)  (mineral water)            0.076523   \n",
              "10                       (fresh bread)  (mineral water)            0.043061   \n",
              "32                            (turkey)  (mineral water)            0.066483   \n",
              "\n",
              "    consequent support   support  confidence      lift  leverage  conviction  \n",
              "15            0.101945  0.016140    0.326314  3.200891  0.011097    1.333047  \n",
              "52            0.129583  0.011065    0.309701  2.389991  0.006435    1.260929  \n",
              "57            0.174110  0.017239    0.413469  2.374757  0.009980    1.408093  \n",
              "23            0.129583  0.015198    0.300792  2.321232  0.008651    1.244861  \n",
              "17            0.174110  0.039770    0.390110  2.240595  0.022020    1.354163  \n",
              "..                 ...       ...         ...       ...       ...         ...  \n",
              "11            0.238368  0.020264    0.320000  1.342461  0.005169    1.120047  \n",
              "20            0.238368  0.015065    0.317416  1.331619  0.003752    1.115806  \n",
              "21            0.238368  0.023997    0.313589  1.315565  0.005756    1.109585  \n",
              "10            0.238368  0.013332    0.309598  1.298820  0.003067    1.103171  \n",
              "32            0.238368  0.020281    0.305051  1.279746  0.004433    1.095953  \n",
              "\n",
              "[64 rows x 9 columns]"
            ]
          },
          "execution_count": 104,
          "metadata": {},
          "output_type": "execute_result"
        }
      ],
      "source": [
        "from mlxtend.frequent_patterns import association_rules\n",
        "association_rules(itemset, metric=\"confidence\", min_threshold=0.3).sort_values(by = 'lift', ascending = False)"
      ]
    },
    {
      "cell_type": "markdown",
      "metadata": {},
      "source": [
        "##### 가장 고객이 적었던 수요일에 대한 장바구니 분석"
      ]
    },
    {
      "cell_type": "code",
      "execution_count": 106,
      "metadata": {},
      "outputs": [
        {
          "data": {
            "text/html": [
              "<div>\n",
              "<style scoped>\n",
              "    .dataframe tbody tr th:only-of-type {\n",
              "        vertical-align: middle;\n",
              "    }\n",
              "\n",
              "    .dataframe tbody tr th {\n",
              "        vertical-align: top;\n",
              "    }\n",
              "\n",
              "    .dataframe thead th {\n",
              "        text-align: right;\n",
              "    }\n",
              "</style>\n",
              "<table border=\"1\" class=\"dataframe\">\n",
              "  <thead>\n",
              "    <tr style=\"text-align: right;\">\n",
              "      <th></th>\n",
              "      <th>antecedents</th>\n",
              "      <th>consequents</th>\n",
              "      <th>antecedent support</th>\n",
              "      <th>consequent support</th>\n",
              "      <th>support</th>\n",
              "      <th>confidence</th>\n",
              "      <th>lift</th>\n",
              "      <th>leverage</th>\n",
              "      <th>conviction</th>\n",
              "    </tr>\n",
              "  </thead>\n",
              "  <tbody>\n",
              "    <tr>\n",
              "      <th>15</th>\n",
              "      <td>(herb &amp; pepper)</td>\n",
              "      <td>(ground beef)</td>\n",
              "      <td>0.050634</td>\n",
              "      <td>0.098213</td>\n",
              "      <td>0.015922</td>\n",
              "      <td>0.314442</td>\n",
              "      <td>3.201622</td>\n",
              "      <td>0.010949</td>\n",
              "      <td>1.315406</td>\n",
              "    </tr>\n",
              "    <tr>\n",
              "      <th>24</th>\n",
              "      <td>(whole wheat pasta)</td>\n",
              "      <td>(milk)</td>\n",
              "      <td>0.030825</td>\n",
              "      <td>0.131352</td>\n",
              "      <td>0.010553</td>\n",
              "      <td>0.342342</td>\n",
              "      <td>2.606289</td>\n",
              "      <td>0.006504</td>\n",
              "      <td>1.320820</td>\n",
              "    </tr>\n",
              "    <tr>\n",
              "      <th>57</th>\n",
              "      <td>(mineral water, ground beef)</td>\n",
              "      <td>(spaghetti)</td>\n",
              "      <td>0.040267</td>\n",
              "      <td>0.171526</td>\n",
              "      <td>0.017310</td>\n",
              "      <td>0.429885</td>\n",
              "      <td>2.506232</td>\n",
              "      <td>0.010403</td>\n",
              "      <td>1.453169</td>\n",
              "    </tr>\n",
              "    <tr>\n",
              "      <th>52</th>\n",
              "      <td>(mineral water, frozen vegetables)</td>\n",
              "      <td>(milk)</td>\n",
              "      <td>0.035916</td>\n",
              "      <td>0.131352</td>\n",
              "      <td>0.011293</td>\n",
              "      <td>0.314433</td>\n",
              "      <td>2.393812</td>\n",
              "      <td>0.006576</td>\n",
              "      <td>1.267050</td>\n",
              "    </tr>\n",
              "    <tr>\n",
              "      <th>17</th>\n",
              "      <td>(ground beef)</td>\n",
              "      <td>(spaghetti)</td>\n",
              "      <td>0.098213</td>\n",
              "      <td>0.171526</td>\n",
              "      <td>0.039711</td>\n",
              "      <td>0.404336</td>\n",
              "      <td>2.357278</td>\n",
              "      <td>0.022865</td>\n",
              "      <td>1.390839</td>\n",
              "    </tr>\n",
              "    <tr>\n",
              "      <th>...</th>\n",
              "      <td>...</td>\n",
              "      <td>...</td>\n",
              "      <td>...</td>\n",
              "      <td>...</td>\n",
              "      <td>...</td>\n",
              "      <td>...</td>\n",
              "      <td>...</td>\n",
              "      <td>...</td>\n",
              "      <td>...</td>\n",
              "    </tr>\n",
              "    <tr>\n",
              "      <th>10</th>\n",
              "      <td>(fresh bread)</td>\n",
              "      <td>(mineral water)</td>\n",
              "      <td>0.042766</td>\n",
              "      <td>0.240304</td>\n",
              "      <td>0.013422</td>\n",
              "      <td>0.313853</td>\n",
              "      <td>1.306068</td>\n",
              "      <td>0.003145</td>\n",
              "      <td>1.107192</td>\n",
              "    </tr>\n",
              "    <tr>\n",
              "      <th>11</th>\n",
              "      <td>(frozen smoothie)</td>\n",
              "      <td>(mineral water)</td>\n",
              "      <td>0.063686</td>\n",
              "      <td>0.240304</td>\n",
              "      <td>0.019717</td>\n",
              "      <td>0.309593</td>\n",
              "      <td>1.288341</td>\n",
              "      <td>0.004413</td>\n",
              "      <td>1.100360</td>\n",
              "    </tr>\n",
              "    <tr>\n",
              "      <th>8</th>\n",
              "      <td>(cottage cheese)</td>\n",
              "      <td>(mineral water)</td>\n",
              "      <td>0.032954</td>\n",
              "      <td>0.240304</td>\n",
              "      <td>0.010090</td>\n",
              "      <td>0.306180</td>\n",
              "      <td>1.274137</td>\n",
              "      <td>0.002171</td>\n",
              "      <td>1.094947</td>\n",
              "    </tr>\n",
              "    <tr>\n",
              "      <th>33</th>\n",
              "      <td>(turkey)</td>\n",
              "      <td>(mineral water)</td>\n",
              "      <td>0.062298</td>\n",
              "      <td>0.240304</td>\n",
              "      <td>0.019069</td>\n",
              "      <td>0.306092</td>\n",
              "      <td>1.273772</td>\n",
              "      <td>0.004098</td>\n",
              "      <td>1.094809</td>\n",
              "    </tr>\n",
              "    <tr>\n",
              "      <th>21</th>\n",
              "      <td>(low fat yogurt)</td>\n",
              "      <td>(mineral water)</td>\n",
              "      <td>0.077664</td>\n",
              "      <td>0.240304</td>\n",
              "      <td>0.023419</td>\n",
              "      <td>0.301549</td>\n",
              "      <td>1.254869</td>\n",
              "      <td>0.004757</td>\n",
              "      <td>1.087688</td>\n",
              "    </tr>\n",
              "  </tbody>\n",
              "</table>\n",
              "<p>62 rows × 9 columns</p>\n",
              "</div>"
            ],
            "text/plain": [
              "                           antecedents      consequents  antecedent support  \\\n",
              "15                     (herb & pepper)    (ground beef)            0.050634   \n",
              "24                 (whole wheat pasta)           (milk)            0.030825   \n",
              "57        (mineral water, ground beef)      (spaghetti)            0.040267   \n",
              "52  (mineral water, frozen vegetables)           (milk)            0.035916   \n",
              "17                       (ground beef)      (spaghetti)            0.098213   \n",
              "..                                 ...              ...                 ...   \n",
              "10                       (fresh bread)  (mineral water)            0.042766   \n",
              "11                   (frozen smoothie)  (mineral water)            0.063686   \n",
              "8                     (cottage cheese)  (mineral water)            0.032954   \n",
              "33                            (turkey)  (mineral water)            0.062298   \n",
              "21                    (low fat yogurt)  (mineral water)            0.077664   \n",
              "\n",
              "    consequent support   support  confidence      lift  leverage  conviction  \n",
              "15            0.098213  0.015922    0.314442  3.201622  0.010949    1.315406  \n",
              "24            0.131352  0.010553    0.342342  2.606289  0.006504    1.320820  \n",
              "57            0.171526  0.017310    0.429885  2.506232  0.010403    1.453169  \n",
              "52            0.131352  0.011293    0.314433  2.393812  0.006576    1.267050  \n",
              "17            0.171526  0.039711    0.404336  2.357278  0.022865    1.390839  \n",
              "..                 ...       ...         ...       ...       ...         ...  \n",
              "10            0.240304  0.013422    0.313853  1.306068  0.003145    1.107192  \n",
              "11            0.240304  0.019717    0.309593  1.288341  0.004413    1.100360  \n",
              "8             0.240304  0.010090    0.306180  1.274137  0.002171    1.094947  \n",
              "33            0.240304  0.019069    0.306092  1.273772  0.004098    1.094809  \n",
              "21            0.240304  0.023419    0.301549  1.254869  0.004757    1.087688  \n",
              "\n",
              "[62 rows x 9 columns]"
            ]
          },
          "execution_count": 106,
          "metadata": {},
          "output_type": "execute_result"
        }
      ],
      "source": [
        "wednesday = choose_saleday('Wednesday')\n",
        "itemset = apriori(wednesday.iloc[:, :-3], min_support=0.01, use_colnames=True)\n",
        "association_rules(itemset, metric=\"confidence\", min_threshold=0.3).sort_values(by = 'lift', ascending = False)"
      ]
    },
    {
      "cell_type": "markdown",
      "metadata": {
        "id": "rihwQjEjod9Q"
      },
      "source": [
        "### 결과\n",
        "\n",
        "* 시각화 결과 및 장바구니 분석 결과를 결합하여 가설에 따라 특정 상품 및 세트의 프로모션 기획한 결과\n",
        "\n",
        "* 해당 기획을 어떤 데이터 분석 결과에 기반하여 진행하였는지 논리적인 흐름 필요\n"
      ]
    },
    {
      "cell_type": "markdown",
      "metadata": {},
      "source": [
        "시각화 결과, 수목 요일에는 고객의 수가 적어, 주로 주말에 프로모션을 기획하는 것이 좋아보임.\n",
        "또한 프로모션은 낮 12시와 오후 7시 근방에 진행하는 것이 가장 효율이 높다.\n",
        "장바구니 분석 결과, hurb와 pepper를 구입한 고객은 높은 가능성으로 ground beef를 함께 구입하는 경향이 있다.\n",
        "따라서 이 두 제품의 결합 상품을 판매하면 높은 프로모션 효과를 얻을 수 있을 것으로 기대된다.\n",
        "더 나아가, 요일별 다른 프로모션을 기획하는 것 또한 중요하다.\n",
        "예를 들어, 고객이 가장 적게 방문하는 수요일에는 whole wheat pasta를 구매하는 고객은 milk를 함께 구매하는데, 이를 요일 프로모션을 활용하면 높은 성공을 기대할 수 있다.\n"
      ]
    }
  ],
  "metadata": {
    "colab": {
      "name": "미니프로젝트_문제",
      "provenance": []
    },
    "interpreter": {
      "hash": "a2fa2dea287701ca5566d6aec2370305f5b01ed80b4ee77198dcb04a55d6d85b"
    },
    "kernelspec": {
      "display_name": "Python 3.8.13 ('tf280')",
      "language": "python",
      "name": "python3"
    },
    "language_info": {
      "codemirror_mode": {
        "name": "ipython",
        "version": 3
      },
      "file_extension": ".py",
      "mimetype": "text/x-python",
      "name": "python",
      "nbconvert_exporter": "python",
      "pygments_lexer": "ipython3",
      "version": "3.8.13"
    }
  },
  "nbformat": 4,
  "nbformat_minor": 0
}
